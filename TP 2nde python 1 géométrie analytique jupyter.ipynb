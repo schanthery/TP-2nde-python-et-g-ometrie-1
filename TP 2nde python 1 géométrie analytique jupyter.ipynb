{
 "cells": [
  {
   "cell_type": "markdown",
   "metadata": {},
   "source": [
    "# TP 2nde Python . Découverte de Python\n",
    "\n",
    "## EXERCICE 1\n",
    "\n",
    "On considère la fonction ci-contre :\n",
    "\n",
    "```python\n",
    "def fonction(a):\n",
    "    resultat = a ** 2\n",
    "    return resultat\n",
    "```\n",
    "L'objectif est de comprendre quelle est le but de cette fonction\n",
    "Pour cela, vous allez utiliser cette fonction avec plusieurs valeurs que vous choisirez habilement.\n",
    "Pour cela, sélectionner la cellule de code suivante et exécuter cette cellule de code \n",
    "- soit en cliquant sur le bouton run de la barre d'outils en haut de cette page\n",
    "<img src=\"img/barre.jpg\" width=400>\n",
    "- soit en tapant sur les touches <kbd>Ctrl</kbd> + <kbd>Entrée</kbd>  dans la cellule ci dessous.\n",
    "\n",
    "Vous testerez cette fonction plusieurs fois en modifiant la valeur donnée en entrée dans les parenthèses. "
   ]
  },
  {
   "cell_type": "code",
   "execution_count": null,
   "metadata": {},
   "outputs": [],
   "source": [
    "# Définition de la fonction\n",
    "def fonction(a):\n",
    "    resultat = a ** 2\n",
    "    return resultat\n",
    "\n",
    "# Appel de la fonction\n",
    "# Changez la valeur entre les parenthèses pour voir ce que fait cette fonction \n",
    "fonction(9)  \n"
   ]
  },
  {
   "cell_type": "markdown",
   "metadata": {},
   "source": [
    "Vous avez trouvé à quoi sert cette fonction ?"
   ]
  },
  {
   "cell_type": "markdown",
   "metadata": {},
   "source": [
    "## EXERCICE 2\n",
    "\n",
    "On considère la fonction ci-contre :\n",
    "\n",
    "```python\n",
    "from math import * # Cette ligne ajoute à Python des fonctions mathématique dont la fonction sqrt\n",
    "\n",
    "def fonction2(a):\n",
    "    resultat = sqrt(a)\n",
    "    return resultat\n",
    "```\n",
    "\n",
    "L'objectif est de comprendre quelle est le but de cette fonction\n",
    "Pour cela, vous allez utiliser cette fonction avec plusieurs valeurs que vous choisirez habilement (25,81,100 par exemple..)\n",
    "\n",
    "Pour cela, sélectionner la cellule de code suivante et exécuter cette cellule de code \n",
    "- soit en cliquant sur le bouton run de la barre d'outils en haut de cette page\n",
    "<img src=\"img/barre.jpg\" width=400>\n",
    "- soit en tapant sur les touches <kbd>Ctrl</kbd> + <kbd>Entrée</kbd>  dans la cellule ci dessous.\n",
    "\n",
    "Vous testerez cette fonction plusieurs fois en modifiant la valeur donnée en entrée dans les parenthèses. "
   ]
  },
  {
   "cell_type": "code",
   "execution_count": null,
   "metadata": {},
   "outputs": [],
   "source": [
    "# Cette ligne ajoute à Python des fonctions mathématique dont la fonction sqrt\n",
    "from math import * \n",
    "\n",
    "# Définition de la fonction2\n",
    "def fonction2(a):\n",
    "    resultat = sqrt(a)\n",
    "    return resultat\n",
    "\n",
    "# Appel de la fonction\n",
    "# Changez la valeur entre les parenthèses pour voir ce que fait cette fonction \n",
    "fonction2(25)"
   ]
  },
  {
   "cell_type": "markdown",
   "metadata": {},
   "source": [
    "Vous avez trouvé à quoi sert cette fonction ?"
   ]
  },
  {
   "cell_type": "markdown",
   "metadata": {},
   "source": [
    "## EXERCICE 3\n",
    "Ben a  écrit le programme ci dessous pour obtenir une fonction qui calcule les coordonnées du milieu de [AB] avec $A( r ; s )$ et $B( t ; u )$.\n",
    "\n",
    "Il sait que le point de coordonnées (2;5) est le milieu des points de coordonnées (1;7) et (3,3)\n",
    "\n",
    "Son programme ne fonctionne pas. Tu peux le constater en  exécutant la cellule de code suivante. \n",
    "\n",
    "Peux tu le corriger?\n",
    "\n",
    "On rappelle que les coordonnées du point I milieu de [AB] sont données par : $x_i=\\dfrac{x_A+x_B}{2}$ et par $y_i=\\dfrac{y_A+y_B}{2}$"
   ]
  },
  {
   "cell_type": "code",
   "execution_count": null,
   "metadata": {},
   "outputs": [],
   "source": [
    "# Définition de la fonction milieu.\n",
    "# Cette fonction reçoit en paramètres les coordonnées du premier point suivi de celles du deuxième point\n",
    "def milieu(r,s,t,u):\n",
    "    x=(r+s)/2\n",
    "    y=(t+u)/2\n",
    "    return (x,y)\n",
    "\n",
    "# Appel de la fonction\n",
    "milieu(1,7,3,3)\n"
   ]
  },
  {
   "cell_type": "markdown",
   "metadata": {},
   "source": [
    "As tu corrigé cette fonction ?\n"
   ]
  },
  {
   "cell_type": "markdown",
   "metadata": {},
   "source": [
    "# EXERCICE 4\n",
    "\n",
    "En t’inspirant des 3 exercices précédents, écris la fonction permettant de calculer la distance entre 2 point A(r ;s) et B(t ;u).\n",
    "\n",
    "Pour t'aider, on rappelle que la distance AB entre 2 points A et B est égale à :\n",
    "$AB=\\sqrt{(x_b-x_a)^2+(y_b-y_a)^2}$\n"
   ]
  },
  {
   "cell_type": "code",
   "execution_count": null,
   "metadata": {},
   "outputs": [],
   "source": [
    "# Définition de la fonction distance\n",
    "# Cette fonction reçoit en paramètres les coordonnées du premier point suivi de celles du deuxième point\n",
    "\n",
    "def distance(r,s,t,u):\n",
    "    \n",
    "    \n",
    "    \n",
    "# Appel de la fonction\n",
    "distance()"
   ]
  }
 ],
 "metadata": {
  "kernelspec": {
   "display_name": "Python 3",
   "language": "python",
   "name": "python3"
  },
  "language_info": {
   "codemirror_mode": {
    "name": "ipython",
    "version": 3
   },
   "file_extension": ".py",
   "mimetype": "text/x-python",
   "name": "python",
   "nbconvert_exporter": "python",
   "pygments_lexer": "ipython3",
   "version": "3.7.6"
  }
 },
 "nbformat": 4,
 "nbformat_minor": 2
}
